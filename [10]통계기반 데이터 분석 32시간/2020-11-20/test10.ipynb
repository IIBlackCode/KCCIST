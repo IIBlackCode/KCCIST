{
 "metadata": {
  "language_info": {
   "codemirror_mode": {
    "name": "ipython",
    "version": 3
   },
   "file_extension": ".py",
   "mimetype": "text/x-python",
   "name": "python",
   "nbconvert_exporter": "python",
   "pygments_lexer": "ipython3",
   "version": "3.8.6-final"
  },
  "orig_nbformat": 2,
  "kernelspec": {
   "name": "python3",
   "display_name": "Python 3"
  }
 },
 "nbformat": 4,
 "nbformat_minor": 2,
 "cells": [
  {
   "cell_type": "code",
   "execution_count": 7,
   "metadata": {},
   "outputs": [
    {
     "output_type": "execute_result",
     "data": {
      "text/plain": [
       "array([32, 38, 33])"
      ]
     },
     "metadata": {},
     "execution_count": 7
    }
   ],
   "source": [
    "inputs = [[1,2,3,4],\n",
    "        [1,2,3,4],\n",
    "        [1,2,3,4],\n",
    "        [1,2,3,4]]\n",
    "        \n",
    "weights = [\n",
    "    [1,2,3,4],\n",
    "    [2,3,4,4],\n",
    "    [1,2,3,4]\n",
    "]\n",
    "biases = [2,2,3]\n",
    "np.dot(weights, inputs) + biases\n",
    "# import numpy as np\n",
    "# a = [1,2,3]\n",
    "# b = [1,2,3]\n",
    "# np.dot(a, b) # 1*1 + 2*2 + 3*3\n",
    "# a1 = np.array(a)\n",
    "# b1 = np.array(b)\n",
    "# a1, b1, a1.shape, b1.shape\n",
    "# np.dot(a1, b1.T)"
   ]
  },
  {
   "cell_type": "code",
   "execution_count": 11,
   "metadata": {},
   "outputs": [
    {
     "output_type": "execute_result",
     "data": {
      "text/plain": [
       "array([[26]])"
      ]
     },
     "metadata": {},
     "execution_count": 11
    }
   ],
   "source": [
    "a = [1,2,3]\n",
    "b = [3,4,5]\n",
    "a1 = np.array([a])\n",
    "b1 = np.array([b])\n",
    "a1, b1, a1.shape, b1.shape\n",
    "np.dot(a1, b1.T)"
   ]
  },
  {
   "cell_type": "code",
   "execution_count": 20,
   "metadata": {},
   "outputs": [
    {
     "output_type": "execute_result",
     "data": {
      "text/plain": [
       "((3, 4), (3, 4), (4, 3))"
      ]
     },
     "metadata": {},
     "execution_count": 20
    }
   ],
   "source": [
    "inputs = [[1,2,3,4],\n",
    "        [1,2,3,4],\n",
    "        [1,2,3,4]]        \n",
    "weights = [\n",
    "    [1,2,3,4],\n",
    "    [2,3,4,4],\n",
    "    [1,2,3,4]\n",
    "]\n",
    "biases = [2,2,3]\n",
    "a3 = np.array(inputs)\n",
    "b3 = np.array(weights)\n",
    "a3.shape, b3.shape, b3.T.shape\n",
    "# output = np.dot(a3, b3.T) + biases\n",
    "# output.shape"
   ]
  },
  {
   "cell_type": "code",
   "execution_count": 22,
   "metadata": {},
   "outputs": [
    {
     "output_type": "execute_result",
     "data": {
      "text/plain": [
       "array([[209, 312, 210],\n",
       "       [209, 312, 210],\n",
       "       [209, 312, 210]])"
      ]
     },
     "metadata": {},
     "execution_count": 22
    }
   ],
   "source": [
    "inputs = [[1,2,3,4],[1,2,3,4],[1,2,3,4]]  \n",
    "weights = [[1,2,3,4],[2,3,4,4],[1,2,3,4]]  \n",
    "biases = [2,2,3]\n",
    "weights2 = [[1,2,3],[2,3,4],[1,2,3]]  \n",
    "biases2 = [2,2,3]\n",
    "\n",
    "layer1_outputs = np.dot(inputs, np.array(weights).T) + biases\n",
    "layer2_outputs = np.dot(layer1_outputs, np.array(weights2).T) + biases2\n",
    "layer2_outputs"
   ]
  }
 ]
}