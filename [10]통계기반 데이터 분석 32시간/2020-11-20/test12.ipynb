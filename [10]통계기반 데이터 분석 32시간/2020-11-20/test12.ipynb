{
 "metadata": {
  "language_info": {
   "codemirror_mode": {
    "name": "ipython",
    "version": 3
   },
   "file_extension": ".py",
   "mimetype": "text/x-python",
   "name": "python",
   "nbconvert_exporter": "python",
   "pygments_lexer": "ipython3",
   "version": "3.8.6-final"
  },
  "orig_nbformat": 2,
  "kernelspec": {
   "name": "python3",
   "display_name": "Python 3"
  }
 },
 "nbformat": 4,
 "nbformat_minor": 2,
 "cells": [
  {
   "cell_type": "code",
   "execution_count": 33,
   "metadata": {},
   "outputs": [
    {
     "output_type": "execute_result",
     "data": {
      "text/plain": [
       "(470, 18)"
      ]
     },
     "metadata": {},
     "execution_count": 33
    }
   ],
   "source": [
    "from tensorflow.keras.models import Sequential\n",
    "from tensorflow.keras.layers import Dense\n",
    "import tensorflow as tf\n",
    "import numpy as np\n",
    "import pandas as pd\n",
    "np.random.seed(1234)\n",
    "tf.random.set_seed(1234)\n",
    "\n",
    "datasets = np.loadtxt(\"data2/ThoraricSurgery.csv\", delimiter=',')\n",
    "datasets.shape\n",
    "\n"
   ]
  },
  {
   "cell_type": "code",
   "execution_count": 34,
   "metadata": {},
   "outputs": [
    {
     "output_type": "execute_result",
     "data": {
      "text/plain": [
       "((468, 17), (468,))"
      ]
     },
     "metadata": {},
     "execution_count": 34
    }
   ],
   "source": [
    "X = datasets[2:, 0:17]\n",
    "y = datasets[2:, 17]\n",
    "X.shape, y.shape"
   ]
  },
  {
   "cell_type": "code",
   "execution_count": 35,
   "metadata": {},
   "outputs": [
    {
     "output_type": "execute_result",
     "data": {
      "text/plain": [
       "((2, 17), (2,))"
      ]
     },
     "metadata": {},
     "execution_count": 35
    }
   ],
   "source": [
    "X1 = datasets[:2, 0:17]\n",
    "y1 = datasets[:2, 17]\n",
    "X1.shape, y1.shape"
   ]
  },
  {
   "cell_type": "code",
   "execution_count": 39,
   "metadata": {},
   "outputs": [
    {
     "output_type": "stream",
     "name": "stdout",
     "text": [
      "Model: \"sequential_11\"\n",
      "_________________________________________________________________\n",
      "Layer (type)                 Output Shape              Param #   \n",
      "=================================================================\n",
      "dense_20 (Dense)             (None, 30)                540       \n",
      "_________________________________________________________________\n",
      "dense_21 (Dense)             (None, 1)                 31        \n",
      "=================================================================\n",
      "Total params: 571\n",
      "Trainable params: 571\n",
      "Non-trainable params: 0\n",
      "_________________________________________________________________\n",
      "1/1 [==============================] - 0s 1000us/step - loss: 0.1031 - accuracy: 1.0000\n"
     ]
    }
   ],
   "source": [
    "model.summary()\n",
    "model.evaluate(X1, y1)\n",
    "model.save('test2.h5')\n",
    "model.save_weights(\"test.h5\")"
   ]
  },
  {
   "cell_type": "code",
   "execution_count": 36,
   "metadata": {},
   "outputs": [
    {
     "output_type": "stream",
     "name": "stdout",
     "text": [
      "Epoch 1/100\n",
      "47/47 [==============================] - 0s 1ms/step - loss: 0.1918 - accuracy: 0.7970\n",
      "Epoch 2/100\n",
      "47/47 [==============================] - 0s 2ms/step - loss: 0.1496 - accuracy: 0.8504\n",
      "Epoch 3/100\n",
      "47/47 [==============================] - 0s 2ms/step - loss: 0.1496 - accuracy: 0.8504\n",
      "Epoch 4/100\n",
      "47/47 [==============================] - 0s 1ms/step - loss: 0.1491 - accuracy: 0.8504\n",
      "Epoch 5/100\n",
      "47/47 [==============================] - 0s 1ms/step - loss: 0.1479 - accuracy: 0.8504\n",
      "Epoch 6/100\n",
      "47/47 [==============================] - 0s 2ms/step - loss: 0.1475 - accuracy: 0.8483\n",
      "Epoch 7/100\n",
      "47/47 [==============================] - 0s 2ms/step - loss: 0.1487 - accuracy: 0.8483\n",
      "Epoch 8/100\n",
      "47/47 [==============================] - 0s 2ms/step - loss: 0.1469 - accuracy: 0.8504\n",
      "Epoch 9/100\n",
      "47/47 [==============================] - 0s 2ms/step - loss: 0.1474 - accuracy: 0.8504\n",
      "Epoch 10/100\n",
      "47/47 [==============================] - 0s 1ms/step - loss: 0.1476 - accuracy: 0.8504\n",
      "Epoch 11/100\n",
      "47/47 [==============================] - 0s 1ms/step - loss: 0.1462 - accuracy: 0.8526\n",
      "Epoch 12/100\n",
      "47/47 [==============================] - 0s 2ms/step - loss: 0.1484 - accuracy: 0.8504\n",
      "Epoch 13/100\n",
      "47/47 [==============================] - 0s 1ms/step - loss: 0.1480 - accuracy: 0.8483\n",
      "Epoch 14/100\n",
      "47/47 [==============================] - 0s 2ms/step - loss: 0.1470 - accuracy: 0.8504\n",
      "Epoch 15/100\n",
      "47/47 [==============================] - 0s 2ms/step - loss: 0.1479 - accuracy: 0.8504\n",
      "Epoch 16/100\n",
      "47/47 [==============================] - 0s 2ms/step - loss: 0.1463 - accuracy: 0.8462\n",
      "Epoch 17/100\n",
      "47/47 [==============================] - 0s 1ms/step - loss: 0.1470 - accuracy: 0.8504\n",
      "Epoch 18/100\n",
      "47/47 [==============================] - 0s 2ms/step - loss: 0.1457 - accuracy: 0.8483\n",
      "Epoch 19/100\n",
      "47/47 [==============================] - 0s 1ms/step - loss: 0.1451 - accuracy: 0.8419\n",
      "Epoch 20/100\n",
      "47/47 [==============================] - 0s 1ms/step - loss: 0.1457 - accuracy: 0.8483\n",
      "Epoch 21/100\n",
      "47/47 [==============================] - 0s 2ms/step - loss: 0.1459 - accuracy: 0.8440\n",
      "Epoch 22/100\n",
      "47/47 [==============================] - 0s 1ms/step - loss: 0.1479 - accuracy: 0.8504\n",
      "Epoch 23/100\n",
      "47/47 [==============================] - 0s 2ms/step - loss: 0.1457 - accuracy: 0.8504\n",
      "Epoch 24/100\n",
      "47/47 [==============================] - 0s 1ms/step - loss: 0.1433 - accuracy: 0.8504\n",
      "Epoch 25/100\n",
      "47/47 [==============================] - 0s 2ms/step - loss: 0.1438 - accuracy: 0.8526\n",
      "Epoch 26/100\n",
      "47/47 [==============================] - 0s 1ms/step - loss: 0.1436 - accuracy: 0.8526\n",
      "Epoch 27/100\n",
      "47/47 [==============================] - 0s 2ms/step - loss: 0.1423 - accuracy: 0.8526\n",
      "Epoch 28/100\n",
      "47/47 [==============================] - 0s 1ms/step - loss: 0.1417 - accuracy: 0.8483\n",
      "Epoch 29/100\n",
      "47/47 [==============================] - 0s 1ms/step - loss: 0.1452 - accuracy: 0.8462\n",
      "Epoch 30/100\n",
      "47/47 [==============================] - 0s 1ms/step - loss: 0.1414 - accuracy: 0.8504\n",
      "Epoch 31/100\n",
      "47/47 [==============================] - 0s 2ms/step - loss: 0.1397 - accuracy: 0.8483\n",
      "Epoch 32/100\n",
      "47/47 [==============================] - 0s 2ms/step - loss: 0.1397 - accuracy: 0.8526\n",
      "Epoch 33/100\n",
      "47/47 [==============================] - 0s 1ms/step - loss: 0.1398 - accuracy: 0.8504\n",
      "Epoch 34/100\n",
      "47/47 [==============================] - 0s 1ms/step - loss: 0.1472 - accuracy: 0.8483\n",
      "Epoch 35/100\n",
      "47/47 [==============================] - 0s 1ms/step - loss: 0.1386 - accuracy: 0.8547\n",
      "Epoch 36/100\n",
      "47/47 [==============================] - 0s 1ms/step - loss: 0.1402 - accuracy: 0.8462\n",
      "Epoch 37/100\n",
      "47/47 [==============================] - 0s 1ms/step - loss: 0.1379 - accuracy: 0.8462\n",
      "Epoch 38/100\n",
      "47/47 [==============================] - 0s 2ms/step - loss: 0.1369 - accuracy: 0.8462\n",
      "Epoch 39/100\n",
      "47/47 [==============================] - 0s 2ms/step - loss: 0.1404 - accuracy: 0.8504\n",
      "Epoch 40/100\n",
      "47/47 [==============================] - 0s 2ms/step - loss: 0.1488 - accuracy: 0.8355\n",
      "Epoch 41/100\n",
      "47/47 [==============================] - 0s 1ms/step - loss: 0.1493 - accuracy: 0.8504\n",
      "Epoch 42/100\n",
      "47/47 [==============================] - 0s 2ms/step - loss: 0.1492 - accuracy: 0.8504\n",
      "Epoch 43/100\n",
      "47/47 [==============================] - 0s 1ms/step - loss: 0.1491 - accuracy: 0.8504\n",
      "Epoch 44/100\n",
      "47/47 [==============================] - 0s 1ms/step - loss: 0.1486 - accuracy: 0.8504\n",
      "Epoch 45/100\n",
      "47/47 [==============================] - 0s 1ms/step - loss: 0.1468 - accuracy: 0.8483\n",
      "Epoch 46/100\n",
      "47/47 [==============================] - 0s 2ms/step - loss: 0.1436 - accuracy: 0.8526\n",
      "Epoch 47/100\n",
      "47/47 [==============================] - 0s 2ms/step - loss: 0.1422 - accuracy: 0.8483\n",
      "Epoch 48/100\n",
      "47/47 [==============================] - 0s 2ms/step - loss: 0.1427 - accuracy: 0.8504\n",
      "Epoch 49/100\n",
      "47/47 [==============================] - 0s 1ms/step - loss: 0.1402 - accuracy: 0.8526\n",
      "Epoch 50/100\n",
      "47/47 [==============================] - 0s 1ms/step - loss: 0.1401 - accuracy: 0.8526\n",
      "Epoch 51/100\n",
      "47/47 [==============================] - 0s 2ms/step - loss: 0.1395 - accuracy: 0.8504\n",
      "Epoch 52/100\n",
      "47/47 [==============================] - 0s 1ms/step - loss: 0.1417 - accuracy: 0.8526\n",
      "Epoch 53/100\n",
      "47/47 [==============================] - 0s 1ms/step - loss: 0.1392 - accuracy: 0.8590\n",
      "Epoch 54/100\n",
      "47/47 [==============================] - 0s 1ms/step - loss: 0.1360 - accuracy: 0.8547\n",
      "Epoch 55/100\n",
      "47/47 [==============================] - 0s 1ms/step - loss: 0.1360 - accuracy: 0.8568\n",
      "Epoch 56/100\n",
      "47/47 [==============================] - 0s 2ms/step - loss: 0.1365 - accuracy: 0.8611\n",
      "Epoch 57/100\n",
      "47/47 [==============================] - 0s 2ms/step - loss: 0.1362 - accuracy: 0.8504\n",
      "Epoch 58/100\n",
      "47/47 [==============================] - 0s 2ms/step - loss: 0.1463 - accuracy: 0.8504\n",
      "Epoch 59/100\n",
      "47/47 [==============================] - 0s 1ms/step - loss: 0.1378 - accuracy: 0.8526\n",
      "Epoch 60/100\n",
      "47/47 [==============================] - 0s 1ms/step - loss: 0.1331 - accuracy: 0.8632\n",
      "Epoch 61/100\n",
      "47/47 [==============================] - 0s 2ms/step - loss: 0.1333 - accuracy: 0.8568\n",
      "Epoch 62/100\n",
      "47/47 [==============================] - 0s 2ms/step - loss: 0.1366 - accuracy: 0.8590\n",
      "Epoch 63/100\n",
      "47/47 [==============================] - 0s 1ms/step - loss: 0.1320 - accuracy: 0.8547\n",
      "Epoch 64/100\n",
      "47/47 [==============================] - 0s 1ms/step - loss: 0.1361 - accuracy: 0.8526\n",
      "Epoch 65/100\n",
      "47/47 [==============================] - 0s 1ms/step - loss: 0.1374 - accuracy: 0.8568\n",
      "Epoch 66/100\n",
      "47/47 [==============================] - 0s 1ms/step - loss: 0.1321 - accuracy: 0.8654\n",
      "Epoch 67/100\n",
      "47/47 [==============================] - 0s 2ms/step - loss: 0.1346 - accuracy: 0.8504\n",
      "Epoch 68/100\n",
      "47/47 [==============================] - 0s 1ms/step - loss: 0.1465 - accuracy: 0.8504\n",
      "Epoch 69/100\n",
      "47/47 [==============================] - 0s 1ms/step - loss: 0.1421 - accuracy: 0.8526\n",
      "Epoch 70/100\n",
      "47/47 [==============================] - 0s 2ms/step - loss: 0.1389 - accuracy: 0.8547\n",
      "Epoch 71/100\n",
      "47/47 [==============================] - 0s 1ms/step - loss: 0.1382 - accuracy: 0.8526\n",
      "Epoch 72/100\n",
      "47/47 [==============================] - 0s 1ms/step - loss: 0.1340 - accuracy: 0.8590\n",
      "Epoch 73/100\n",
      "47/47 [==============================] - 0s 2ms/step - loss: 0.1325 - accuracy: 0.8568\n",
      "Epoch 74/100\n",
      "47/47 [==============================] - 0s 1ms/step - loss: 0.1333 - accuracy: 0.8590\n",
      "Epoch 75/100\n",
      "47/47 [==============================] - 0s 2ms/step - loss: 0.1290 - accuracy: 0.8590\n",
      "Epoch 76/100\n",
      "47/47 [==============================] - 0s 1ms/step - loss: 0.1394 - accuracy: 0.8419\n",
      "Epoch 77/100\n",
      "47/47 [==============================] - 0s 1ms/step - loss: 0.1373 - accuracy: 0.8483\n",
      "Epoch 78/100\n",
      "47/47 [==============================] - 0s 2ms/step - loss: 0.1286 - accuracy: 0.8611\n",
      "Epoch 79/100\n",
      "47/47 [==============================] - 0s 1ms/step - loss: 0.1289 - accuracy: 0.8568\n",
      "Epoch 80/100\n",
      "47/47 [==============================] - 0s 913us/step - loss: 0.1433 - accuracy: 0.8504\n",
      "Epoch 81/100\n",
      "47/47 [==============================] - 0s 1ms/step - loss: 0.1405 - accuracy: 0.8568\n",
      "Epoch 82/100\n",
      "47/47 [==============================] - 0s 1ms/step - loss: 0.1377 - accuracy: 0.8568\n",
      "Epoch 83/100\n",
      "47/47 [==============================] - 0s 1ms/step - loss: 0.1382 - accuracy: 0.8590\n",
      "Epoch 84/100\n",
      "47/47 [==============================] - 0s 1ms/step - loss: 0.1370 - accuracy: 0.8568\n",
      "Epoch 85/100\n",
      "47/47 [==============================] - 0s 1ms/step - loss: 0.1376 - accuracy: 0.8526\n",
      "Epoch 86/100\n",
      "47/47 [==============================] - 0s 2ms/step - loss: 0.1313 - accuracy: 0.8632\n",
      "Epoch 87/100\n",
      "47/47 [==============================] - 0s 2ms/step - loss: 0.1359 - accuracy: 0.8568\n",
      "Epoch 88/100\n",
      "47/47 [==============================] - 0s 1ms/step - loss: 0.1325 - accuracy: 0.8590\n",
      "Epoch 89/100\n",
      "47/47 [==============================] - 0s 2ms/step - loss: 0.1292 - accuracy: 0.8675\n",
      "Epoch 90/100\n",
      "47/47 [==============================] - 0s 2ms/step - loss: 0.1278 - accuracy: 0.8632\n",
      "Epoch 91/100\n",
      "47/47 [==============================] - 0s 1ms/step - loss: 0.1253 - accuracy: 0.8675\n",
      "Epoch 92/100\n",
      "47/47 [==============================] - 0s 2ms/step - loss: 0.1277 - accuracy: 0.8632\n",
      "Epoch 93/100\n",
      "47/47 [==============================] - 0s 1ms/step - loss: 0.1279 - accuracy: 0.8462\n",
      "Epoch 94/100\n",
      "47/47 [==============================] - 0s 2ms/step - loss: 0.1321 - accuracy: 0.8654\n",
      "Epoch 95/100\n",
      "47/47 [==============================] - 0s 1ms/step - loss: 0.1312 - accuracy: 0.8568\n",
      "Epoch 96/100\n",
      "47/47 [==============================] - 0s 1ms/step - loss: 0.1262 - accuracy: 0.8632\n",
      "Epoch 97/100\n",
      "47/47 [==============================] - 0s 1ms/step - loss: 0.1244 - accuracy: 0.8590\n",
      "Epoch 98/100\n",
      "47/47 [==============================] - 0s 1ms/step - loss: 0.1336 - accuracy: 0.8440\n",
      "Epoch 99/100\n",
      "47/47 [==============================] - 0s 1ms/step - loss: 0.1300 - accuracy: 0.8611\n",
      "Epoch 100/100\n",
      "47/47 [==============================] - 0s 2ms/step - loss: 0.1428 - accuracy: 0.8504\n"
     ]
    },
    {
     "output_type": "execute_result",
     "data": {
      "text/plain": [
       "<tensorflow.python.keras.callbacks.History at 0x1c9ab5de7f0>"
      ]
     },
     "metadata": {},
     "execution_count": 36
    }
   ],
   "source": [
    "X = datasets[2:, 0:17]\n",
    "y = datasets[2:, 17]\n",
    "X.shape, y.shape\n",
    "X1 = datasets[:2, 0:17]\n",
    "y1 = datasets[:2, 17]\n",
    "\n",
    "model = Sequential()\n",
    "model.add(Dense(30, input_dim=17, activation='relu'))\n",
    "model.add(Dense(1, activation='sigmoid'))\n",
    "model.compile(loss='mean_squared_error', optimizer='adam', metrics=['accuracy'])\n",
    "model.fit(X, y, epochs=100, batch_size=10)\n",
    "# model.evaluate(X1, y1)"
   ]
  }
 ]
}