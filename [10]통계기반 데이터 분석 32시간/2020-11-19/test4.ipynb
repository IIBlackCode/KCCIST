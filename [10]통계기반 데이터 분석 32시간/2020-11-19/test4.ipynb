{
 "metadata": {
  "language_info": {
   "codemirror_mode": {
    "name": "ipython",
    "version": 3
   },
   "file_extension": ".py",
   "mimetype": "text/x-python",
   "name": "python",
   "nbconvert_exporter": "python",
   "pygments_lexer": "ipython3",
   "version": "3.8.5-final"
  },
  "orig_nbformat": 2,
  "kernelspec": {
   "name": "python3",
   "display_name": "Python 3"
  }
 },
 "nbformat": 4,
 "nbformat_minor": 2,
 "cells": [
  {
   "cell_type": "code",
   "execution_count": 12,
   "metadata": {},
   "outputs": [
    {
     "output_type": "stream",
     "name": "stdout",
     "text": [
      "[1 2 3 4] [2, 3, 4, 5]\nfloat64 (4,) 4 [1. 2. 3. 4.]\n"
     ]
    }
   ],
   "source": [
    "import numpy as np\n",
    "arr = np.array([1,2,3,4])\n",
    "arr\n",
    "list1 = [2,3,4,5]\n",
    "print(arr, list1)\n",
    "arr2 = np.array([1,2,3,4], dtype=np.float64)\n",
    "print(arr2.dtype, arr2.shape, arr2.size, arr2)"
   ]
  },
  {
   "cell_type": "code",
   "execution_count": 24,
   "metadata": {},
   "outputs": [],
   "source": [
    "arr2 = np.array(['2','3','4','5'], dtype=np.string_)\n",
    "arr2.astype(float)\n",
    "arr3 = np.arange(5)\n",
    "arr3\n",
    "arr4 = np.empty(8, dtype='u4')\n",
    "#arr4.shape"
   ]
  },
  {
   "cell_type": "code",
   "execution_count": 39,
   "metadata": {},
   "outputs": [
    {
     "output_type": "execute_result",
     "data": {
      "text/plain": [
       "array([[ True,  True],\n",
       "       [ True,  True],\n",
       "       [ True,  True]])"
      ]
     },
     "metadata": {},
     "execution_count": 39
    }
   ],
   "source": [
    "arr5 = np.array([[1,2,3],[4,5,6]], dtype=np.float64)\n",
    "arr5.shape\n",
    "arr6 = np.array([[1,2], [3,4], [5,6]], dtype=np.int32)\n",
    "# y = 2x + 1\n",
    "arr6 * 2\n",
    "arr6 * arr6 * arr6\n",
    "arr6 / 2\n",
    "arr6 > 0"
   ]
  },
  {
   "cell_type": "code",
   "execution_count": 68,
   "metadata": {},
   "outputs": [
    {
     "output_type": "execute_result",
     "data": {
      "text/plain": [
       "array([[[100,   2,   3],\n",
       "        [  4,   5,   6]],\n",
       "\n",
       "       [[  7,   8,   9],\n",
       "        [ 10,  11,  12]]])"
      ]
     },
     "metadata": {},
     "execution_count": 68
    }
   ],
   "source": [
    "arr7 = np.arange(10)\n",
    "arr7[1]\n",
    "arr7[0]\n",
    "arr7[:2]\n",
    "# 0  1  2\n",
    "#   0  1\n",
    "arr7[5:8]\n",
    "arr8 = np.array([[1,2],[3,4],[5,6]])\n",
    "arr8.dtype\n",
    "arr8.shape\n",
    "arr8[0][0]\n",
    "arr8[2][0]\n",
    "arr8[2,0]\n",
    "\n",
    "list2 = [[1,2],[3,4],[5,6]]\n",
    "list2[0][1]\n",
    "list3 = [[[1,2,3], [4,5,6]],[[7,8,9],[10, 11, 12]]]\n",
    "list3[0][0][0]\n",
    "arr9 = np.array([[[1,2,3], [4,5,6]],[[7,8,9],[10, 11, 12]]])\n",
    "arr9.shape\n",
    "arr9.ndim\n",
    "arr9[0][0][0] = 100\n",
    "arr9"
   ]
  },
  {
   "cell_type": "code",
   "execution_count": 112,
   "metadata": {},
   "outputs": [
    {
     "output_type": "execute_result",
     "data": {
      "text/plain": [
       "(4, 4)"
      ]
     },
     "metadata": {},
     "execution_count": 112
    }
   ],
   "source": [
    "arr10 = np.empty((8,4))\n",
    "for i in range(8):\n",
    "    arr10[i] = i\n",
    "#arr10.shape, arr10.ndim\n",
    "arr10\n",
    "arr10[[0,1,2]]\n",
    "arr10[[-1, -3]]\n",
    "arr11 = np.arange(10)\n",
    "arr11\n",
    "arr11.reshape(2,5)\n",
    "arr12 = np.arange(32).reshape(8,4)\n",
    "arr12[[1,5,2,7],[0,3,1,2]]\n",
    "arr13 = arr12[[1,5,7,2]][:, [0,3,1,2]]\n",
    "arr13.shape"
   ]
  },
  {
   "cell_type": "code",
   "execution_count": 124,
   "metadata": {},
   "outputs": [
    {
     "output_type": "stream",
     "name": "stdout",
     "text": [
      "[[ 0  1  2  3]\n [ 4  5  6  7]\n [ 8  9 10 11]\n [12 13 14 15]\n [16 17 18 19]]\n"
     ]
    },
    {
     "output_type": "execute_result",
     "data": {
      "text/plain": [
       "(4, 5)"
      ]
     },
     "metadata": {},
     "execution_count": 124
    }
   ],
   "source": [
    "arr14 = np.arange(20).reshape(5,4)\n",
    "arr14.shape\n",
    "print(arr14)\n",
    "arr15 = arr14.T\n",
    "arr15.shape"
   ]
  },
  {
   "cell_type": "code",
   "execution_count": 130,
   "metadata": {},
   "outputs": [],
   "source": [
    "a = np.array([[1,2], [3,4]])\n",
    "b = np.array([[1,2], [3,4]])\n",
    "#1,2  1,2\n",
    "#3,4  3,4\n",
    "c = np.dot(a, b)"
   ]
  },
  {
   "cell_type": "code",
   "execution_count": 156,
   "metadata": {},
   "outputs": [
    {
     "output_type": "execute_result",
     "data": {
      "text/plain": [
       "array([[0, 5],\n",
       "       [1, 6],\n",
       "       [2, 7],\n",
       "       [3, 8],\n",
       "       [4, 9]])"
      ]
     },
     "metadata": {},
     "execution_count": 156
    }
   ],
   "source": [
    "a1 = np.arange(4).reshape(2,2)\n",
    "a1\n",
    "#a1.T\n",
    "np.transpose(a1,(0,1))\n",
    "\n",
    "a2 = np.arange(10).reshape(2,5)\n",
    "# a2.T\n",
    "a3 = np.transpose(a2, (1,0))\n",
    "a3.shape\n",
    "# 0 => 1차원, 1 => 2차원\n",
    "# 0 => 3차원, 1 => 2차원, 2 => 1차원\n",
    "# a2.swapaxes(0,1)\n"
   ]
  },
  {
   "cell_type": "code",
   "execution_count": 164,
   "metadata": {},
   "outputs": [
    {
     "output_type": "stream",
     "name": "stdout",
     "text": [
      "(3, 4) (4,)\n"
     ]
    },
    {
     "output_type": "error",
     "ename": "ValueError",
     "evalue": "operands could not be broadcast together with shapes (4,) (5,) ",
     "traceback": [
      "\u001b[1;31m---------------------------------------------------------------------------\u001b[0m",
      "\u001b[1;31mValueError\u001b[0m                                Traceback (most recent call last)",
      "\u001b[1;32m<ipython-input-164-b4c11813d09b>\u001b[0m in \u001b[0;36m<module>\u001b[1;34m\u001b[0m\n\u001b[0;32m      7\u001b[0m \u001b[0ma13\u001b[0m \u001b[1;33m=\u001b[0m \u001b[0mnp\u001b[0m\u001b[1;33m.\u001b[0m\u001b[0marray\u001b[0m\u001b[1;33m(\u001b[0m\u001b[1;33m[\u001b[0m\u001b[1;36m1\u001b[0m\u001b[1;33m,\u001b[0m\u001b[1;36m2\u001b[0m\u001b[1;33m,\u001b[0m\u001b[1;36m3\u001b[0m\u001b[1;33m,\u001b[0m\u001b[1;36m4\u001b[0m\u001b[1;33m]\u001b[0m\u001b[1;33m)\u001b[0m\u001b[1;33m\u001b[0m\u001b[1;33m\u001b[0m\u001b[0m\n\u001b[0;32m      8\u001b[0m \u001b[0ma14\u001b[0m \u001b[1;33m=\u001b[0m \u001b[0mnp\u001b[0m\u001b[1;33m.\u001b[0m\u001b[0marray\u001b[0m\u001b[1;33m(\u001b[0m\u001b[1;33m[\u001b[0m\u001b[1;36m1\u001b[0m\u001b[1;33m,\u001b[0m\u001b[1;36m2\u001b[0m\u001b[1;33m,\u001b[0m\u001b[1;36m3\u001b[0m\u001b[1;33m,\u001b[0m\u001b[1;36m4\u001b[0m\u001b[1;33m,\u001b[0m\u001b[1;36m5\u001b[0m\u001b[1;33m]\u001b[0m\u001b[1;33m)\u001b[0m\u001b[1;33m\u001b[0m\u001b[1;33m\u001b[0m\u001b[0m\n\u001b[1;32m----> 9\u001b[1;33m \u001b[0ma15\u001b[0m \u001b[1;33m=\u001b[0m \u001b[0ma13\u001b[0m \u001b[1;33m+\u001b[0m \u001b[0ma14\u001b[0m\u001b[1;33m\u001b[0m\u001b[1;33m\u001b[0m\u001b[0m\n\u001b[0m",
      "\u001b[1;31mValueError\u001b[0m: operands could not be broadcast together with shapes (4,) (5,) "
     ]
    }
   ],
   "source": [
    "a10 = np.array([[1,2,3,4], [2,4,6,8], [10,20,30,40]])\n",
    "a10.shape\n",
    "a11 = np.array([2,4,6,8])\n",
    "print(a10.shape, a11.shape)\n",
    "a12 = a10 + a11\n",
    "a12.shape\n",
    "a13 = np.array([1,2,3,4])\n",
    "a14 = np.array([1,2,3,4,5])\n",
    "a15 = a13 + a14"
   ]
  },
  {
   "cell_type": "code",
   "execution_count": null,
   "metadata": {},
   "outputs": [],
   "source": []
  }
 ]
}