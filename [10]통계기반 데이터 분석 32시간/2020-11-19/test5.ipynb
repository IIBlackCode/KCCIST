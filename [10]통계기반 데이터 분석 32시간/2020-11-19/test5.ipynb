{
 "metadata": {
  "language_info": {
   "codemirror_mode": {
    "name": "ipython",
    "version": 3
   },
   "file_extension": ".py",
   "mimetype": "text/x-python",
   "name": "python",
   "nbconvert_exporter": "python",
   "pygments_lexer": "ipython3",
   "version": "3.8.5-final"
  },
  "orig_nbformat": 2,
  "kernelspec": {
   "name": "python3",
   "display_name": "Python 3"
  }
 },
 "nbformat": 4,
 "nbformat_minor": 2,
 "cells": [
  {
   "cell_type": "code",
   "execution_count": 16,
   "metadata": {},
   "outputs": [
    {
     "output_type": "execute_result",
     "data": {
      "text/plain": [
       "a    0\n",
       "b    1\n",
       "dtype: int64"
      ]
     },
     "metadata": {},
     "execution_count": 16
    }
   ],
   "source": [
    "#!pip install pandas\n",
    "import pandas as pd\n",
    "import numpy as np\n",
    "a = np.array([1,2,3,4])\n",
    "b = pd.Series(a)\n",
    "\n",
    "a1 = [1,2,3,4]\n",
    "b1 = pd.Series(a1)\n",
    "b1\n",
    "b.values\n",
    "b.index\n",
    "\n",
    "a2 = pd.Series([1,2,3,4], index=['a','b','c','d'])\n",
    "a2\n",
    "a2.index\n",
    "data2 = {'a' : 0, 'b' : 1, 'c' : 3, 'd' : 4}\n",
    "a3 = pd.Series(data2)\n",
    "a3\n",
    "a3[0]\n",
    "a3[:2]"
   ]
  }
 ]
}