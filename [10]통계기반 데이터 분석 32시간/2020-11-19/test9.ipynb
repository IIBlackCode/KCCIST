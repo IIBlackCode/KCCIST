{
 "metadata": {
  "language_info": {
   "codemirror_mode": {
    "name": "ipython",
    "version": 3
   },
   "file_extension": ".py",
   "mimetype": "text/x-python",
   "name": "python",
   "nbconvert_exporter": "python",
   "pygments_lexer": "ipython3",
   "version": "3.8.6-final"
  },
  "orig_nbformat": 2,
  "kernelspec": {
   "name": "python3",
   "display_name": "Python 3"
  }
 },
 "nbformat": 4,
 "nbformat_minor": 2,
 "cells": [
  {
   "cell_type": "code",
   "execution_count": 2,
   "metadata": {},
   "outputs": [
    {
     "output_type": "stream",
     "name": "stdout",
     "text": [
      "2.3\n"
     ]
    }
   ],
   "source": [
    "inputs = [1, 2, 3]\n",
    "weights = [0.2, 0.8, -0.5]\n",
    "bias = 2\n",
    "\n",
    "output = (inputs[0]*weights[0] + \n",
    "inputs[1]*weights[1] + inputs[2]*weights[2] + 2)\n",
    "print(output)\n"
   ]
  },
  {
   "cell_type": "code",
   "execution_count": 3,
   "metadata": {},
   "outputs": [
    {
     "output_type": "execute_result",
     "data": {
      "text/plain": [
       "[4.8, 1.21, 2.385]"
      ]
     },
     "metadata": {},
     "execution_count": 3
    }
   ],
   "source": [
    "inputs = [1, 2, 3, 2.5]\n",
    "weights1 = [0.2, 0.8, -0.5, 1]\n",
    "weights2 = [0.5, -0.91, 0.26, -0.5]\n",
    "weights3 = [-0.26, -0.27, 0.17, 0.87]\n",
    "bias1 = 2\n",
    "bias2 = 3\n",
    "bias3 = 0.5\n",
    "outputs = [\n",
    "    # neuron1 \n",
    "    inputs[0]*weights1[0] +\n",
    "    inputs[1]*weights1[1] + \n",
    "    inputs[2]*weights1[2] + \n",
    "    inputs[3]*weights1[3] + bias1, \n",
    "    # neuron2 \n",
    "    inputs[0]*weights2[0] +\n",
    "    inputs[1]*weights2[1] + \n",
    "    inputs[2]*weights2[2] + \n",
    "    inputs[3]*weights2[3] + bias2, \n",
    "    # neuron3 \n",
    "    inputs[0]*weights3[0] +\n",
    "    inputs[1]*weights3[1] + \n",
    "    inputs[2]*weights3[2] + \n",
    "    inputs[3]*weights3[3] + bias3, \n",
    "]\n",
    "outputs\n"
   ]
  },
  {
   "cell_type": "code",
   "execution_count": 13,
   "metadata": {},
   "outputs": [
    {
     "output_type": "stream",
     "name": "stdout",
     "text": [
      "4.8\n1.21\n2.385\n"
     ]
    }
   ],
   "source": [
    "inputs = [1, 2, 3, 2.5]\n",
    "weights = [[0.2, 0.8, -0.5, 1],\n",
    "            [0.5, -0.91, 0.26, -0.5],\n",
    "            [-0.26, -0.27, 0.17, 0.87]]\n",
    "biases = [2, 3, 0.5]\n",
    "\n",
    "layer_ouputs = []\n",
    "for neuron_weigths, neuron_bias in zip(weights, biases):\n",
    "    neuron_output = 0\n",
    "    for n_input, weight in zip(inputs, neuron_weigths):\n",
    "        neuron_output += n_input * weight\n",
    "    neuron_output += neuron_bias\n",
    "    layer_ouputs.append(neuron_output)\n",
    "    print(neuron_output)\n"
   ]
  },
  {
   "cell_type": "code",
   "execution_count": 17,
   "metadata": {},
   "outputs": [
    {
     "output_type": "stream",
     "name": "stdout",
     "text": [
      "42\n42\n"
     ]
    },
    {
     "output_type": "execute_result",
     "data": {
      "text/plain": [
       "array([4.8  , 1.21 , 2.385])"
      ]
     },
     "metadata": {},
     "execution_count": 17
    }
   ],
   "source": [
    "import numpy as np\n",
    "a = [1,2,3]\n",
    "b = [4,5,6]\n",
    "c = 10\n",
    "\n",
    "out = a[0]*b[0] + a[1]*b[1] + a[2]*b[2] + 10\n",
    "print(out)\n",
    "out2 = np.dot(a, b) + c\n",
    "print(out2)\n",
    "\n",
    "out3 = np.dot(weights, inputs) + biases\n",
    "out3"
   ]
  }
 ]
}