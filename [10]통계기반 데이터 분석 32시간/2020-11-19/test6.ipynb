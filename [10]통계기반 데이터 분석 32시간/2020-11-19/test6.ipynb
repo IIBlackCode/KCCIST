{
 "metadata": {
  "language_info": {
   "codemirror_mode": {
    "name": "ipython",
    "version": 3
   },
   "file_extension": ".py",
   "mimetype": "text/x-python",
   "name": "python",
   "nbconvert_exporter": "python",
   "pygments_lexer": "ipython3",
   "version": "3.8.5-final"
  },
  "orig_nbformat": 2,
  "kernelspec": {
   "name": "python3",
   "display_name": "Python 3"
  }
 },
 "nbformat": 4,
 "nbformat_minor": 2,
 "cells": [
  {
   "cell_type": "code",
   "execution_count": 49,
   "metadata": {},
   "outputs": [
    {
     "output_type": "execute_result",
     "data": {
      "text/plain": [
       "     a  b\n",
       "one  1  2\n",
       "two  1  4"
      ],
      "text/html": "<div>\n<style scoped>\n    .dataframe tbody tr th:only-of-type {\n        vertical-align: middle;\n    }\n\n    .dataframe tbody tr th {\n        vertical-align: top;\n    }\n\n    .dataframe thead th {\n        text-align: right;\n    }\n</style>\n<table border=\"1\" class=\"dataframe\">\n  <thead>\n    <tr style=\"text-align: right;\">\n      <th></th>\n      <th>a</th>\n      <th>b</th>\n    </tr>\n  </thead>\n  <tbody>\n    <tr>\n      <th>one</th>\n      <td>1</td>\n      <td>2</td>\n    </tr>\n    <tr>\n      <th>two</th>\n      <td>1</td>\n      <td>4</td>\n    </tr>\n  </tbody>\n</table>\n</div>"
     },
     "metadata": {},
     "execution_count": 49
    }
   ],
   "source": [
    "import pandas as pd\n",
    "import numpy as np\n",
    "\n",
    "# Lists, dict, Series, Numpy arrays, DataFrame\n",
    "\n",
    "a = pd.Series()\n",
    "type(a)\n",
    "b = pd.DataFrame()\n",
    "type(b)\n",
    "b1 = pd.DataFrame([1,2,3,4])\n",
    "b2 = pd.DataFrame([[1,2],[3,4]])\n",
    "b3 = pd.DataFrame([['a',10], ['b',20], ['c',30]])\n",
    "b4 = pd.DataFrame({'Name':['홍길동','강감찬','이순신'],'Age':[10,30,40]})\n",
    "b5 = pd.DataFrame([{'a':1, 'b':2}, {'a':1, 'b':4}])\n",
    "data1 = [{'a':1, 'b':2}, {'a':1, 'b':4}]\n",
    "b6 = pd.DataFrame(data1, index=['one', 'two'], columns=['col1', 'col2'])\n",
    "b7 = pd.DataFrame(data1, index=['one', 'two'], columns=['a', 'b'])\n",
    "# NaN(Not a Number)\n",
    "a1 = pd.Series([1,2,3,4])\n",
    "a2 = pd.Series([3,4,5,6])\n",
    "data2 = {'a' : a1, 'b' : a2}\n",
    "b8 = pd.DataFrame(data2)\n",
    "b9 = pd.DataFrame([1,2,3])\n",
    "b9[0]\n",
    "b7['c'] = pd.Series([10,20], index=['one','two'])\n",
    "del b7['c']\n",
    "b7"
   ]
  },
  {
   "cell_type": "code",
   "execution_count": null,
   "metadata": {},
   "outputs": [],
   "source": []
  }
 ]
}